{
 "cells": [
  {
   "cell_type": "markdown",
   "metadata": {},
   "source": [
    "### Zadání 1\n",
    "\n",
    "Pomocí nástroje regex101 vymysli regulární výraz, který označí platná data a neoznačí neplatná data:\n",
    "\n",
    " - platná data:\n",
    "\n",
    "        2.2.2022\n",
    "        13. 8. 1999\n",
    "        4/5/2001\n",
    "        \n",
    "* neplatná data:\n",
    "\n",
    "        5.123.458.91\n",
    "        21.4\n",
    "        8./9"
   ]
  },
  {
   "cell_type": "markdown",
   "metadata": {},
   "source": [
    "### Řešení\n",
    "\n",
    "https://regex101.com/r/8solP4/1\n",
    "\n"
   ]
  },
  {
   "cell_type": "markdown",
   "metadata": {},
   "source": [
    "### Zadání 2\n",
    "\n",
    "Zkopíruj si obsah souboru posta.txt do regex101 jako testovací řetězec. Vymysli regulární výraz, který označí všechny \"poslední řádky adresy\" v textu. Poslední řádka adresy zpravidla obsahuje PSČ a název obce, například 190 16 PRAHA 916 nebo 742 45 FULNEK. Celkem by jich mělo být 18."
   ]
  },
  {
   "cell_type": "markdown",
   "metadata": {},
   "source": [
    "### Řešení\n",
    "\n",
    "https://regex101.com/r/rcq3wi/1"
   ]
  },
  {
   "cell_type": "markdown",
   "metadata": {},
   "source": [
    "### Bonus"
   ]
  },
  {
   "cell_type": "markdown",
   "metadata": {},
   "source": [
    "Napiš program, který se zeptá uživatele na jeho přihlašovací jméno, e-mailovou adresu a heslo. Po každém zadaném údaji program ověří jeho správnost podle následujících pravidel:\n",
    "\n",
    " - uživatelské jméno smí obsahovat malá a velká písmena (nesmí obsahovat žádné jiné znaky), jeho minimálná délka je 6 znaků a jeho maximální délka je 10 znaků.\n",
    "\n",
    " - heslo smí obsahovat malá a velká písmena, číslice, a následující speciální znaky: _, -, ., +, =. Jeho minimálná délka je 12 znaků a jeho maximální délka je 30 znaků.\n",
    "\n",
    " - e-mail by měl být validním e-mailem 🙂 Tady jsou nějaké testovací příklady (viz zdroj)"
   ]
  },
  {
   "cell_type": "markdown",
   "metadata": {},
   "source": [
    "  * příklady platných e-mailových adres:\n",
    "  \n",
    "    ```\n",
    "    email@example.com\n",
    "    firstname.lastname@example.com\n",
    "    email@subdomain.example.com\n",
    "    firstname+lastname@example.com\n",
    "    email@123.123.123.123\n",
    "    email@[123.123.123.123]\n",
    "    \"email\"@example.com\n",
    "    1234567890@example.com\n",
    "    email@example-one.com\n",
    "    _______@example.com\n",
    "    email@example.name\n",
    "    email@example.museum\n",
    "    email@example.co.jp\n",
    "    firstname-lastname@example.com\n",
    "    ```"
   ]
  },
  {
   "cell_type": "markdown",
   "metadata": {},
   "source": [
    "  * příklady neplatných e-mailových adres:\n",
    "  \n",
    "    ```\n",
    "    plainaddress\n",
    "    #@%^%#$@#$@#.com\n",
    "    @example.com\n",
    "    Joe Smith <email@example.com>\n",
    "    email.example.com\n",
    "    email@example@example.com\n",
    "    .email@example.com\n",
    "    email.@example.com\n",
    "    email..email@example.com\n",
    "    あいうえお@example.com\n",
    "    email@example.com (Joe Smith)\n",
    "    email@example\n",
    "    email@-example.com\n",
    "    email@example.web\n",
    "    email@111.222.333.44444\n",
    "    email@example..com\n",
    "    Abc..123@example.com\n",
    "    ```"
   ]
  },
  {
   "cell_type": "code",
   "execution_count": 2,
   "metadata": {},
   "outputs": [
    {
     "name": "stdout",
     "output_type": "stream",
     "text": [
      "Heslo není ve správném formátu.\n"
     ]
    },
    {
     "ename": "SystemExit",
     "evalue": "",
     "output_type": "error",
     "traceback": [
      "An exception has occurred, use %tb to see the full traceback.\n",
      "\u001b[1;31mSystemExit\u001b[0m\n"
     ]
    }
   ],
   "source": [
    "import re\n",
    "import sys\n",
    "\n",
    "def login_check(login):\n",
    "    login_regex = re.compile(r\"[a-zA-Z]{6,10}\")\n",
    "    match = login_regex.fullmatch(login)\n",
    "    if match:\n",
    "        pass\n",
    "    else:\n",
    "        print(\"Zadané jméno není správné.\")\n",
    "        sys.exit()\n",
    "\n",
    "def password_check(password):\n",
    "    password_regex = re.compile(r\"[\\w+\\-,\\.\\+=]{12,30}\")\n",
    "    match = password_regex.fullmatch(password)\n",
    "    if match:\n",
    "        pass\n",
    "    else:\n",
    "        print(\"Heslo není ve správném formátu.\")\n",
    "        sys.exit()\n",
    "\n",
    "def mail_check(email):\n",
    "    email_regex = re.compile(r\"\\\"?\\w+\\.?\\+?\\-?\\w+\\\"?@\\[?\\w+\\-?\\w+\\.\\w+(\\.\\w+)?(\\.\\w{1,3})?\\]?\")\n",
    "    match = email_regex.fullmatch(email)\n",
    "    if match:\n",
    "        print(\"Zadané údaje jsou správné.\")\n",
    "    else:\n",
    "        print(\"Zadaná a-mailová adresa není správná.\")\n",
    "\n",
    "\n",
    "login = input(\"Zadej uživatelské jméno: \")\n",
    "login_check(login)\n",
    "password = input(\"Zadej heslo: \")\n",
    "password_check(password)\n",
    "email = input(\"Zadej e-mailovou adresu: \")\n",
    "mail_check(email)"
   ]
  }
 ],
 "metadata": {
  "kernelspec": {
   "display_name": "Python 3",
   "language": "python",
   "name": "python3"
  },
  "language_info": {
   "codemirror_mode": {
    "name": "ipython",
    "version": 3
   },
   "file_extension": ".py",
   "mimetype": "text/x-python",
   "name": "python",
   "nbconvert_exporter": "python",
   "pygments_lexer": "ipython3",
   "version": "3.11.7"
  }
 },
 "nbformat": 4,
 "nbformat_minor": 2
}
