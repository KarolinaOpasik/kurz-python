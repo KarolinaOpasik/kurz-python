{
 "cells": [
  {
   "cell_type": "markdown",
   "metadata": {},
   "source": [
    "https://github.com/JankaMarschalkova/python-podzim-pondeli-2023/blob/main/ukoly/ukol-07.md"
   ]
  },
  {
   "cell_type": "markdown",
   "metadata": {},
   "source": [
    "Import nezbytných knihoven"
   ]
  },
  {
   "cell_type": "code",
   "execution_count": 1,
   "metadata": {},
   "outputs": [],
   "source": [
    "import pandas as pd\n",
    "from unidecode import unidecode"
   ]
  },
  {
   "cell_type": "markdown",
   "metadata": {},
   "source": [
    "Načtení,formatování a zobrazení dat "
   ]
  },
  {
   "cell_type": "code",
   "execution_count": 2,
   "metadata": {},
   "outputs": [
    {
     "data": {
      "text/plain": [
       "id              int64\n",
       "nazev_cz       object\n",
       "nazev_en       object\n",
       "trida_cz       object\n",
       "cena            int64\n",
       "k_prohlidce     int64\n",
       "dtype: object"
      ]
     },
     "metadata": {},
     "output_type": "display_data"
    },
    {
     "data": {
      "text/html": [
       "<div>\n",
       "<style scoped>\n",
       "    .dataframe tbody tr th:only-of-type {\n",
       "        vertical-align: middle;\n",
       "    }\n",
       "\n",
       "    .dataframe tbody tr th {\n",
       "        vertical-align: top;\n",
       "    }\n",
       "\n",
       "    .dataframe thead th {\n",
       "        text-align: right;\n",
       "    }\n",
       "</style>\n",
       "<table border=\"1\" class=\"dataframe\">\n",
       "  <thead>\n",
       "    <tr style=\"text-align: right;\">\n",
       "      <th></th>\n",
       "      <th>id</th>\n",
       "      <th>nazev_cz</th>\n",
       "      <th>nazev_en</th>\n",
       "      <th>trida_cz</th>\n",
       "      <th>cena</th>\n",
       "      <th>k_prohlidce</th>\n",
       "    </tr>\n",
       "  </thead>\n",
       "  <tbody>\n",
       "    <tr>\n",
       "      <th>0</th>\n",
       "      <td>7</td>\n",
       "      <td>Šváb syčivý</td>\n",
       "      <td>Madagascar giant cockroach</td>\n",
       "      <td>Bezobratlí</td>\n",
       "      <td>1000</td>\n",
       "      <td>1</td>\n",
       "    </tr>\n",
       "    <tr>\n",
       "      <th>1</th>\n",
       "      <td>8</td>\n",
       "      <td>Pakobylka okřídlená</td>\n",
       "      <td>Pink-winged stick insect</td>\n",
       "      <td>Bezobratlí</td>\n",
       "      <td>1000</td>\n",
       "      <td>1</td>\n",
       "    </tr>\n",
       "    <tr>\n",
       "      <th>2</th>\n",
       "      <td>16</td>\n",
       "      <td>Tayra</td>\n",
       "      <td>Tayra</td>\n",
       "      <td>Savci</td>\n",
       "      <td>5000</td>\n",
       "      <td>1</td>\n",
       "    </tr>\n",
       "    <tr>\n",
       "      <th>3</th>\n",
       "      <td>35</td>\n",
       "      <td>Kajmanka supí</td>\n",
       "      <td>Alligator snapping turtle</td>\n",
       "      <td>Plazi</td>\n",
       "      <td>2000</td>\n",
       "      <td>1</td>\n",
       "    </tr>\n",
       "    <tr>\n",
       "      <th>4</th>\n",
       "      <td>37</td>\n",
       "      <td>Želva žlutočelá</td>\n",
       "      <td>Indochinese box turtle</td>\n",
       "      <td>Plazi</td>\n",
       "      <td>1000</td>\n",
       "      <td>1</td>\n",
       "    </tr>\n",
       "  </tbody>\n",
       "</table>\n",
       "</div>"
      ],
      "text/plain": [
       "   id             nazev_cz                     nazev_en    trida_cz  cena  \\\n",
       "0   7          Šváb syčivý  Madagascar giant cockroach   Bezobratlí  1000   \n",
       "1   8  Pakobylka okřídlená     Pink-winged stick insect  Bezobratlí  1000   \n",
       "2  16                Tayra                        Tayra       Savci  5000   \n",
       "3  35        Kajmanka supí    Alligator snapping turtle       Plazi  2000   \n",
       "4  37      Želva žlutočelá       Indochinese box turtle       Plazi  1000   \n",
       "\n",
       "   k_prohlidce  \n",
       "0            1  \n",
       "1            1  \n",
       "2            1  \n",
       "3            1  \n",
       "4            1  "
      ]
     },
     "metadata": {},
     "output_type": "display_data"
    }
   ],
   "source": [
    "seznam_zvirat = pd.read_csv(\"adopce-zvirat.csv\", sep=\";\")\n",
    "display(seznam_zvirat.dtypes)\n",
    "display(seznam_zvirat.head())"
   ]
  },
  {
   "cell_type": "markdown",
   "metadata": {},
   "source": [
    "### ZADÁNÍ"
   ]
  },
  {
   "cell_type": "markdown",
   "metadata": {},
   "source": [
    "Kolik má tabulka řádek a sloupců? Jak se sloupce jmenují?"
   ]
  },
  {
   "cell_type": "code",
   "execution_count": 3,
   "metadata": {},
   "outputs": [
    {
     "name": "stdout",
     "output_type": "stream",
     "text": [
      "Tabulka má 513 řádek a 6 sloupců.\n",
      "Nazvy sloupců: ['id', 'nazev_cz', 'nazev_en', 'trida_cz', 'cena', 'k_prohlidce'].\n"
     ]
    }
   ],
   "source": [
    "radky = seznam_zvirat.shape[0]\n",
    "sloupce = seznam_zvirat.shape[1]\n",
    "nazvy_sloupcu = seznam_zvirat.columns.tolist()\n",
    "\n",
    "print(f\"Tabulka má {radky} řádek a {sloupce} sloupců.\")\n",
    "print(f\"Nazvy sloupců: {nazvy_sloupcu}.\")"
   ]
  },
  {
   "cell_type": "markdown",
   "metadata": {},
   "source": [
    "Které zvíře se nachází na záznamu s indexem 34? Vypiš název tohoto zvířete v češtině a v angličtině."
   ]
  },
  {
   "cell_type": "code",
   "execution_count": 4,
   "metadata": {},
   "outputs": [
    {
     "name": "stdout",
     "output_type": "stream",
     "text": [
      "Na záznamu s indexem 34 se nachází Ibis bílý, anglický: White ibis.\n"
     ]
    }
   ],
   "source": [
    "cesky_nazev = seznam_zvirat.loc[34, \"nazev_cz\"]\n",
    "anglicky_nazev = seznam_zvirat.loc[34, \"nazev_en\"]\n",
    "\n",
    "print(f\"Na záznamu s indexem 34 se nachází {cesky_nazev}, anglický: {anglicky_nazev}.\")"
   ]
  },
  {
   "cell_type": "markdown",
   "metadata": {},
   "source": [
    "### BONUS"
   ]
  },
  {
   "cell_type": "markdown",
   "metadata": {},
   "source": [
    "Adopce kterých zvířat je nejdražší?"
   ]
  },
  {
   "cell_type": "code",
   "execution_count": 5,
   "metadata": {},
   "outputs": [
    {
     "name": "stdout",
     "output_type": "stream",
     "text": [
      "Nejdražší adopce s cenou 50000 kč:\n"
     ]
    },
    {
     "data": {
      "text/html": [
       "<div>\n",
       "<style scoped>\n",
       "    .dataframe tbody tr th:only-of-type {\n",
       "        vertical-align: middle;\n",
       "    }\n",
       "\n",
       "    .dataframe tbody tr th {\n",
       "        vertical-align: top;\n",
       "    }\n",
       "\n",
       "    .dataframe thead th {\n",
       "        text-align: right;\n",
       "    }\n",
       "</style>\n",
       "<table border=\"1\" class=\"dataframe\">\n",
       "  <thead>\n",
       "    <tr style=\"text-align: right;\">\n",
       "      <th></th>\n",
       "      <th>nazev_cz</th>\n",
       "    </tr>\n",
       "  </thead>\n",
       "  <tbody>\n",
       "    <tr>\n",
       "      <th>113</th>\n",
       "      <td>Tygr ussurijský</td>\n",
       "    </tr>\n",
       "    <tr>\n",
       "      <th>114</th>\n",
       "      <td>Tygr sumaterský</td>\n",
       "    </tr>\n",
       "    <tr>\n",
       "      <th>128</th>\n",
       "      <td>Slon indický</td>\n",
       "    </tr>\n",
       "    <tr>\n",
       "      <th>129</th>\n",
       "      <td>Hroch obojživelný</td>\n",
       "    </tr>\n",
       "    <tr>\n",
       "      <th>135</th>\n",
       "      <td>Žirafa severní núbijská (= Rothschildova)</td>\n",
       "    </tr>\n",
       "    <tr>\n",
       "      <th>272</th>\n",
       "      <td>Tygr malajský</td>\n",
       "    </tr>\n",
       "  </tbody>\n",
       "</table>\n",
       "</div>"
      ],
      "text/plain": [
       "                                      nazev_cz\n",
       "113                            Tygr ussurijský\n",
       "114                            Tygr sumaterský\n",
       "128                               Slon indický\n",
       "129                          Hroch obojživelný\n",
       "135  Žirafa severní núbijská (= Rothschildova)\n",
       "272                              Tygr malajský"
      ]
     },
     "metadata": {},
     "output_type": "display_data"
    }
   ],
   "source": [
    "# vyhledání nejvyšší ceny za adopci\n",
    "nejvyssi_cena = seznam_zvirat[\"cena\"].max()\n",
    "\n",
    "# vyhledání všech zvířat s nejvyšší cenou \n",
    "print(f\"Nejdražší adopce s cenou {nejvyssi_cena} kč:\")\n",
    "nejdrazsi_zvirata = seznam_zvirat.query(f\"cena == {nejvyssi_cena}\")\n",
    "display(nejdrazsi_zvirata[[\"nazev_cz\"]])"
   ]
  },
  {
   "cell_type": "markdown",
   "metadata": {},
   "source": [
    "Které zvíře je alfabeticky poslední v češtině? Které v angličtině?"
   ]
  },
  {
   "cell_type": "code",
   "execution_count": 11,
   "metadata": {},
   "outputs": [
    {
     "name": "stdout",
     "output_type": "stream",
     "text": [
      "Alfabeticky poslední zvíře v čestině je:\n"
     ]
    },
    {
     "data": {
      "text/html": [
       "<div>\n",
       "<style scoped>\n",
       "    .dataframe tbody tr th:only-of-type {\n",
       "        vertical-align: middle;\n",
       "    }\n",
       "\n",
       "    .dataframe tbody tr th {\n",
       "        vertical-align: top;\n",
       "    }\n",
       "\n",
       "    .dataframe thead th {\n",
       "        text-align: right;\n",
       "    }\n",
       "</style>\n",
       "<table border=\"1\" class=\"dataframe\">\n",
       "  <thead>\n",
       "    <tr style=\"text-align: right;\">\n",
       "      <th></th>\n",
       "      <th>nazev_cz</th>\n",
       "    </tr>\n",
       "  </thead>\n",
       "  <tbody>\n",
       "    <tr>\n",
       "      <th>303</th>\n",
       "      <td>Zvonek zeleny</td>\n",
       "    </tr>\n",
       "  </tbody>\n",
       "</table>\n",
       "</div>"
      ],
      "text/plain": [
       "          nazev_cz\n",
       "303  Zvonek zeleny"
      ]
     },
     "metadata": {},
     "output_type": "display_data"
    },
    {
     "name": "stdout",
     "output_type": "stream",
     "text": [
      "a v angličtině:\n"
     ]
    },
    {
     "data": {
      "text/html": [
       "<div>\n",
       "<style scoped>\n",
       "    .dataframe tbody tr th:only-of-type {\n",
       "        vertical-align: middle;\n",
       "    }\n",
       "\n",
       "    .dataframe tbody tr th {\n",
       "        vertical-align: top;\n",
       "    }\n",
       "\n",
       "    .dataframe thead th {\n",
       "        text-align: right;\n",
       "    }\n",
       "</style>\n",
       "<table border=\"1\" class=\"dataframe\">\n",
       "  <thead>\n",
       "    <tr style=\"text-align: right;\">\n",
       "      <th></th>\n",
       "      <th>nazev_en</th>\n",
       "    </tr>\n",
       "  </thead>\n",
       "  <tbody>\n",
       "    <tr>\n",
       "      <th>161</th>\n",
       "      <td>Yellow-necked francolin</td>\n",
       "    </tr>\n",
       "  </tbody>\n",
       "</table>\n",
       "</div>"
      ],
      "text/plain": [
       "                    nazev_en\n",
       "161  Yellow-necked francolin"
      ]
     },
     "metadata": {},
     "output_type": "display_data"
    }
   ],
   "source": [
    "# seřazení českých a anglických nazvů zvířat podle abecedy  \n",
    "seznam_zvirat[\"nazev_cz\"] = seznam_zvirat[\"nazev_cz\"].apply(unidecode) \n",
    "nazvy_cesky = seznam_zvirat.sort_values(by=\"nazev_cz\")\n",
    "nazvy_anglicky = seznam_zvirat.sort_values(by=\"nazev_en\")\n",
    "\n",
    "# vyhledání posledního nazvu zvířete v čestině a v angličtině\n",
    "posledni_cesky = nazvy_cesky.index[-1]\n",
    "posledni_anglicky = nazvy_anglicky.index[-1]\n",
    "\n",
    "print(\"Alfabeticky poslední zvíře v čestině je:\")\n",
    "display(nazvy_cesky.loc[[posledni_cesky], [\"nazev_cz\"]])\n",
    "\n",
    "print(\"a v angličtině:\")\n",
    "display(nazvy_anglicky.loc[[posledni_anglicky], [\"nazev_en\"]])\n"
   ]
  }
 ],
 "metadata": {
  "kernelspec": {
   "display_name": "Python 3",
   "language": "python",
   "name": "python3"
  },
  "language_info": {
   "codemirror_mode": {
    "name": "ipython",
    "version": 3
   },
   "file_extension": ".py",
   "mimetype": "text/x-python",
   "name": "python",
   "nbconvert_exporter": "python",
   "pygments_lexer": "ipython3",
   "version": "3.11.6"
  }
 },
 "nbformat": 4,
 "nbformat_minor": 2
}
